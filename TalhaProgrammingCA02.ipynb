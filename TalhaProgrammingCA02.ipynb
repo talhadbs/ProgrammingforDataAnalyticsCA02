{
  "nbformat": 4,
  "nbformat_minor": 0,
  "metadata": {
    "colab": {
      "provenance": [],
      "authorship_tag": "ABX9TyOY8oA4xgR58lKnBlPcQxum",
      "include_colab_link": true
    },
    "kernelspec": {
      "name": "python3",
      "display_name": "Python 3"
    },
    "language_info": {
      "name": "python"
    }
  },
  "cells": [
    {
      "cell_type": "markdown",
      "metadata": {
        "id": "view-in-github",
        "colab_type": "text"
      },
      "source": [
        "<a href=\"https://colab.research.google.com/github/talhadbs/ProgrammingforDataAnalyticsCA02/blob/main/TalhaProgrammingCA02.ipynb\" target=\"_parent\"><img src=\"https://colab.research.google.com/assets/colab-badge.svg\" alt=\"Open In Colab\"/></a>"
      ]
    },
    {
      "cell_type": "markdown",
      "source": [
        "**Data Acquisition (data_acquisition.ipynb)**\n",
        "\n",
        "In this phase, the objective is to retrieve data from the OpenWeatherMap API for a given city (in our case, **Ireland**) and save it in a CSV format.\n",
        "\n",
        "**Steps**:\n",
        "\n",
        "1.   **Import necessary libraries:**\n",
        "        *     **requests**: Used to make HTTP requests to the OpenWeatherMap API.\n",
        "        *    **pandas**: A data manipulation library to handle and save the acquired data.\n",
        "\n",
        "2.   **API Key and Target Cities:**\n",
        "        *     **api_key**: This is a unique key provided by OpenWeatherMap to authenticate API requests.\n",
        "        *    **cities**: A list of cities for which we are fetching the weather data.\n",
        "3.   **Build and Make the API Call:**\n",
        "    *   For each city in the cities list:\n",
        "        *     Construct the **base_url** to make the API call.\n",
        "        *   Send a GET request to the OpenWeatherMap API using the **requests.get()** method.\n",
        "4.  **Check API Response:**\n",
        "      *   Ensure that the API response is successful (**status_code == 200**). If not, print an error message.\n",
        "\n",
        "5.   **Parse and Extract Data:**\n",
        "        *     Convert the API response into JSON format using **response.json().**\n",
        "        *    Extract the 'main' section from the JSON response, which contains the primary weather details like temperature, humidity, etc.\n",
        "\n",
        "6.   **Data Conversion and Storage:**\n",
        "        *     Convert the extracted weather data into a Pandas DataFrame.\n",
        "        *    Save this DataFrame to a CSV file named weather_data.csv.\n",
        "\n",
        "7.   **Extract weather details:**\n",
        "       \n",
        "       Extract the 'main' section from the JSON data, which contains core weather details.\n",
        "\n",
        "8.   **Convert temperature to Celsius:**\n",
        "\n",
        "        OpenWeatherMap provides temperature in Kelvin by default. Convert this to Celsius for better understanding and consistency.\n",
        "9.   **Filter out invalid temperature data:**\n",
        "       \n",
        "       Given the range of typical temperatures on Earth, filter out records with temperatures that fall outside a valid range. For our purposes, this range is between -100°C and 60°C.\n",
        "\n",
        "10.   **Convert the extracted data into a Pandas DataFrame.**\n",
        "\n",
        "11.   **Save the DataFrame:**\n",
        "\n",
        "      Store the processed DataFrame in a weather_data.csv file for further use.\n",
        "\n"
      ],
      "metadata": {
        "id": "LsMgCR06dU5G"
      }
    },
    {
      "cell_type": "code",
      "execution_count": 1,
      "metadata": {
        "id": "tbmHeEKjc0rQ"
      },
      "outputs": [],
      "source": [
        "import requests\n",
        "import pandas as pd\n",
        "\n",
        "api_key = \"0b5e97d969ebe3255a17d2af74331092\"\n",
        "cities = [\n",
        "    \"Dublin\", \"Cork\", \"Sligo\", \"New York\", \"Bray\",\n",
        "    \"Los Angeles\", \"Chicago\", \"Houston\", \"Phoenix\", \"Philadelphia\",\n",
        "    \"San Antonio\", \"San Diego\", \"Dallas\", \"San Jose\", \"Austin\",\n",
        "    \"Jacksonville\", \"Fort Worth\", \"Columbus\", \"Charlotte\", \"San Francisco\",\n",
        "    \"Indianapolis\", \"Seattle\", \"Denver\", \"Washington\", \"Boston\",\n",
        "    \"El Paso\", \"Nashville\", \"Detroit\", \"Oklahoma City\", \"Portland\",\n",
        "    \"Memphis\", \"Las Vegas\", \"Louisville\", \"Baltimore\", \"Milwaukee\",\n",
        "    \"Albuquerque\", \"Tucson\", \"Fresno\", \"Mesa\", \"Sacramento\",\n",
        "    \"Atlanta\", \"Kansas City\", \"Colorado Springs\", \"Miami\", \"Raleigh\",\n",
        "    \"Omaha\", \"Oakland\", \"Minneapolis\", \"Tulsa\", \"Wichita\",\n",
        "    \"Pittsburgh\", \"Long Beach\", \"Mesa\", \"Virginia Beach\", \"Bakersfield\",\n",
        "    \"Cincinnati\", \"St. Louis\", \"Oakland\", \"Tampa\", \"New Orleans\",\n",
        "    \"Portland\", \"Denver\", \"Oklahoma City\", \"Charlotte\", \"San Antonio\",\n",
        "    \"San Diego\", \"Austin\", \"Louisville\", \"Milwaukee\", \"Indianapolis\",\n",
        "    \"Seattle\", \"San Francisco\", \"Columbus\", \"Nashville\", \"Memphis\",\n",
        "    \"Las Vegas\", \"Baltimore\", \"Kansas City\", \"Phoenix\", \"Pittsburgh\",\n",
        "    \"Miami\", \"Washington\", \"El Paso\", \"Denver\", \"Oklahoma City\",\n",
        "    \"Long Beach\", \"Mesa\", \"Virginia Beach\", \"Bakersfield\",\n",
        "    \"Cape Town\", \"Johannesburg\", \"Durban\", \"Pretoria\", \"Port Elizabeth\",\n",
        "    \"Cairo\", \"Alexandria\", \"Giza\", \"Suez\", \"Port Said\",\n",
        "    \"London\", \"Manchester\", \"Birmingham\", \"Liverpool\", \"Leeds\",\n",
        "    \"Paris\", \"Lyon\", \"Marseille\", \"Toulouse\", \"Nice\",\n",
        "    \"Berlin\", \"Hamburg\", \"Munich\", \"Frankfurt\", \"Cologne\",\n",
        "    \"Rome\", \"Milan\", \"Naples\", \"Turin\", \"Palermo\",\n",
        "    \"Madrid\", \"Barcelona\", \"Valencia\", \"Sevilla\", \"Zaragoza\",\n",
        "    \"Beijing\", \"Shanghai\", \"Guangzhou\", \"Shenzhen\", \"Tianjin\",\n",
        "    \"Tokyo\", \"Osaka\", \"Nagoya\", \"Kyoto\", \"Fukuoka\",\n",
        "    \"New Delhi\", \"Mumbai\", \"Kolkata\", \"Chennai\", \"Bangalore\",\n",
        "    \"Seoul\", \"Busan\", \"Incheon\", \"Daegu\", \"Gwangju\",\n",
        "    \"Mexico City\", \"Guadalajara\", \"Monterrey\", \"Puebla\", \"Toluca\",\n",
        "    \"São Paulo\", \"Rio de Janeiro\", \"Salvador\", \"Belo Horizonte\", \"Fortaleza\",\n",
        "    \"Buenos Aires\", \"Córdoba\", \"Rosario\", \"La Plata\", \"Santa Fe\",\n",
        "]\n",
        "\n",
        "\n",
        "data_list = []\n",
        "\n",
        "for city in cities:\n",
        "    base_url = f\"http://api.openweathermap.org/data/2.5/weather?q={city}&appid={api_key}\"\n",
        "    response = requests.get(base_url)\n",
        "\n",
        "    # Check if the request was successful\n",
        "    if response.status_code == 200:\n",
        "        data = response.json()\n",
        "\n",
        "        # Check if 'main' exists in data\n",
        "        if 'main' in data:\n",
        "            data_list.append(data['main'])\n",
        "        else:\n",
        "            print(f\"No weather data found for {city}.\")\n",
        "    else:\n",
        "        print(f\"API request failed for {city} with status code: {response.status_code}\")\n",
        "\n",
        "# Convert the weather data to a pandas DataFrame and save it to a CSV file\n",
        "df = pd.DataFrame(data_list)\n",
        "\n",
        "# Convert temperature from Kelvin to Celsius\n",
        "df['temp'] = df['temp'] - 273.15  # Convert Kelvin to Celsius\n",
        "\n",
        "# Filter the data based on valid temperature range\n",
        "valid_temp_range = (-100, 60)  # In Celsius\n",
        "df = df[df['temp'].between(valid_temp_range[0], valid_temp_range[1])]\n",
        "\n",
        "df.to_csv('weather_data.csv', index=False)\n",
        "\n"
      ]
    },
    {
      "cell_type": "markdown",
      "source": [
        "\n",
        "**Data Pre-processing (data_preprocessing.ipynb)**\n",
        "\n",
        "In this phase, the raw data acquired from the API is cleaned and transformed to make it suitable for analysis.\n",
        "\n",
        "**Steps**:\n",
        "\n",
        "\n",
        "1.   Load the raw data from **weather_data.csv** using Pandas.\n",
        "\n",
        "2.   Check and handle missing values, if any. In our example, we simply drop rows with any missing values.\n",
        "3.   Convert the temperature data from Kelvin to Celsius.\n",
        "4.   Save the cleaned and transformed data to **preprocessed_weather_data.csv**.\n",
        "\n",
        "\n",
        "\n"
      ],
      "metadata": {
        "id": "U-ibxyKqdcoL"
      }
    },
    {
      "cell_type": "code",
      "source": [
        "import pandas as pd\n",
        "\n",
        "# Load the data from the CSV file\n",
        "df = pd.read_csv('weather_data.csv')\n",
        "\n",
        "# Handle missing values (if any)\n",
        "df = df.dropna()\n",
        "\n",
        "# Convert temperature from Kelvin to Celsius\n",
        "df['temp'] = df['temp'] - 273.15\n",
        "\n",
        "# Save the preprocessed data to a new CSV file\n",
        "df.to_csv('preprocessed_weather_data.csv', index=False)\n"
      ],
      "metadata": {
        "id": "zKda_eMhc4BG"
      },
      "execution_count": 2,
      "outputs": []
    },
    {
      "cell_type": "markdown",
      "source": [
        "**Data Analysis (data_analysis.ipynb)**\n",
        "\n",
        "In this phase, we perform exploratory data analysis (EDA) to understand our dataset's characteristics and derive insights.\n",
        "\n",
        "**Steps**:\n",
        "\n",
        "\n",
        "\n",
        "1.   Load the preprocessed data from preprocessed_weather_data.csv using Pandas.\n",
        "2.   Calculate basic statistical measures for the temperature:\n",
        "        *   Mean: Average temperature.\n",
        "        *   Median: Middle value in the sorted list of temperatures.\n",
        "        *   Standard Deviation: Measures the amount of variation or dispersion of the temperature set.\n",
        "\n",
        "3.   Print out the statistical measures.\n",
        "4.   Visualize the temperature distribution using a histogram. This gives an idea about the frequency distribution of the temperature values.\n",
        "\n",
        "\n"
      ],
      "metadata": {
        "id": "uSDadBBJdg0-"
      }
    },
    {
      "cell_type": "code",
      "source": [
        "import pandas as pd\n",
        "import matplotlib.pyplot as plt\n",
        "\n",
        "# Load the preprocessed data from the CSV file\n",
        "df = pd.read_csv('preprocessed_weather_data.csv')\n",
        "\n",
        "# Calculate basic statistics for the temperature\n",
        "mean_temp = df['temp'].mean()\n",
        "median_temp = df['temp'].median()\n",
        "std_dev_temp = df['temp'].std()\n",
        "\n",
        "# Print the statistics\n",
        "print(f'Mean temperature: {mean_temp:.2f} °C')\n",
        "print(f'Median temperature: {median_temp:.2f} °C')\n",
        "print(f'Standard deviation of temperature: {std_dev_temp:.2f} °C')\n",
        "\n",
        "# Plot a histogram of the temperature\n",
        "plt.hist(df['temp'], bins=10, edgecolor='black')\n",
        "plt.xlabel('Temperature (°C)')\n",
        "plt.ylabel('Frequency')\n",
        "plt.title('Histogram of Temperature')\n",
        "plt.show()\n"
      ],
      "metadata": {
        "colab": {
          "base_uri": "https://localhost:8080/",
          "height": 524
        },
        "id": "l2jmI8KFc8Zz",
        "outputId": "c6f587f5-8784-4e51-d6dc-29d78c38c4c9"
      },
      "execution_count": 3,
      "outputs": [
        {
          "output_type": "stream",
          "name": "stdout",
          "text": [
            "Mean temperature: -247.90 °C\n",
            "Median temperature: -247.75 °C\n",
            "Standard deviation of temperature: 7.60 °C\n"
          ]
        },
        {
          "output_type": "display_data",
          "data": {
            "text/plain": [
              "<Figure size 640x480 with 1 Axes>"
            ],
            "image/png": "[encoded data removed]"
          },
          "metadata": {}
        }
      ]
    }
  ]
}